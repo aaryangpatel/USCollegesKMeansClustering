{
 "cells": [
  {
   "cell_type": "code",
   "id": "initial_id",
   "metadata": {
    "collapsed": true,
    "ExecuteTime": {
     "end_time": "2025-01-18T22:09:00.059748Z",
     "start_time": "2025-01-18T22:09:00.056712Z"
    }
   },
   "source": [
    "import numpy as np\n",
    "import matplotlib.pyplot as plt\n",
    "import pandas as pd\n",
    "import random\n",
    "\n",
    "round_digit = 4"
   ],
   "outputs": [],
   "execution_count": 279
  },
  {
   "metadata": {
    "ExecuteTime": {
     "end_time": "2025-01-18T22:09:00.068808Z",
     "start_time": "2025-01-18T22:09:00.063644Z"
    }
   },
   "cell_type": "code",
   "source": [
    "# Read input data from csv file\n",
    "\n",
    "df = pd.read_csv('input.csv')"
   ],
   "id": "f6c6083373e0ce90",
   "outputs": [],
   "execution_count": 280
  },
  {
   "metadata": {
    "ExecuteTime": {
     "end_time": "2025-01-18T22:09:00.072208Z",
     "start_time": "2025-01-18T22:09:00.069864Z"
    }
   },
   "cell_type": "code",
   "source": [
    "# Function to standardize a data vector\n",
    "\n",
    "def standardize(data: np.array) -> np.array:\n",
    "    return (data - np.mean(data)) / (np.std(data))"
   ],
   "id": "d0bc1519767752ad",
   "outputs": [],
   "execution_count": 281
  },
  {
   "metadata": {
    "ExecuteTime": {
     "end_time": "2025-01-18T22:09:00.076299Z",
     "start_time": "2025-01-18T22:09:00.072941Z"
    }
   },
   "cell_type": "code",
   "source": [
    "data = df[['Outstate', 'F.Undergrad', 'Grad.Rate']]\n",
    "data = data.to_numpy()\n",
    "\n",
    "data = standardize(data)\n",
    "\n",
    "data.shape[0]"
   ],
   "id": "a865aab03459f06a",
   "outputs": [
    {
     "data": {
      "text/plain": [
       "777"
      ]
     },
     "execution_count": 282,
     "metadata": {},
     "output_type": "execute_result"
    }
   ],
   "execution_count": 282
  },
  {
   "metadata": {
    "ExecuteTime": {
     "end_time": "2025-01-18T22:09:00.079542Z",
     "start_time": "2025-01-18T22:09:00.077508Z"
    }
   },
   "cell_type": "code",
   "source": [
    "def is_terminated(oldCentroids, centroids):\n",
    "    for i in range(centroids.shape[0]):\n",
    "        for j in range(centroids.shape[1]):\n",
    "            if abs(oldCentroids[i][j] - centroids[i][j]) > 0.01:\n",
    "                return False\n",
    "    return True"
   ],
   "id": "5beb82e9cb59f900",
   "outputs": [],
   "execution_count": 283
  },
  {
   "metadata": {
    "ExecuteTime": {
     "end_time": "2025-01-18T22:09:00.081886Z",
     "start_time": "2025-01-18T22:09:00.080036Z"
    }
   },
   "cell_type": "code",
   "source": [
    "def dist(data, centroids):\n",
    "    dist_sum = 0\n",
    "    for i in range(data.shape[0]):\n",
    "        dist_sum += (data[i] - centroids[i]) ** 2\n",
    "    return np.sqrt(dist_sum)"
   ],
   "id": "6b9031d14b8f2692",
   "outputs": [],
   "execution_count": 284
  },
  {
   "metadata": {
    "ExecuteTime": {
     "end_time": "2025-01-18T22:09:00.085327Z",
     "start_time": "2025-01-18T22:09:00.083259Z"
    }
   },
   "cell_type": "code",
   "source": [
    "def get_labels(data, centroids):\n",
    "    labels = np.empty(data.shape[0])\n",
    "    distances = np.full(data.shape[0], float('inf'))\n",
    "    \n",
    "    for i in range(data.shape[0]):\n",
    "        for c in range(centroids.shape[0]):\n",
    "            d = dist(data[i], centroids[c])\n",
    "            if d < distances[i]:\n",
    "                distances[i] = d\n",
    "                labels[i] = c\n",
    "    \n",
    "    return labels"
   ],
   "id": "b3761923bb81c504",
   "outputs": [],
   "execution_count": 285
  },
  {
   "metadata": {
    "ExecuteTime": {
     "end_time": "2025-01-18T22:09:00.088481Z",
     "start_time": "2025-01-18T22:09:00.086199Z"
    }
   },
   "cell_type": "code",
   "source": [
    "def get_centroids(data, labels, k):\n",
    "    \n",
    "    #error\n",
    "    centroids = np.array([data[random.randint(0, data.shape[0] - 1)] for i in range(k)])           \n",
    "\n",
    "    for c in range(0, k):\n",
    "        centroid_prod = np.empty(centroids.shape[1])\n",
    "        #centroid_sum = np.empty(centroids.shape[1])\n",
    "        for i in range(labels.shape[0]):\n",
    "            if labels[i] == c:\n",
    "                #centroid_sum = centroid_sum + data[i]\n",
    "                centroid_prod = centroid_prod * data[i]\n",
    "                \n",
    "        #centroids[c] = centroid_sum / centroids.shape[1]       \n",
    "        centroids[c] = np.power(centroid_prod, 1/centroid_prod.shape[0])\n",
    "    \n",
    "    return centroids"
   ],
   "id": "f66b9aaf3bf7078d",
   "outputs": [],
   "execution_count": 286
  },
  {
   "metadata": {
    "ExecuteTime": {
     "end_time": "2025-01-18T22:09:00.091987Z",
     "start_time": "2025-01-18T22:09:00.089373Z"
    }
   },
   "cell_type": "code",
   "source": [
    "def k_means(data, k):\n",
    "    centroids = np.array([data[random.randint(0, data.shape[0] - 1)] for i in range(k)])           \n",
    "    \n",
    "    \n",
    "    #error: possible same randoms\n",
    "    oldCentroids = np.array([data[random.randint(0, data.shape[0] - 1)] for i in range(k)])\n",
    "    inter = 0\n",
    "    while not is_terminated(oldCentroids, centroids) and inter < 1000:\n",
    "        inter += 1\n",
    "        oldCentroids = centroids\n",
    "        labels = get_labels(data, centroids)\n",
    "        \n",
    "        centroids = get_centroids(data, labels, k)\n",
    "        \n",
    "        centroids = np.sort(centroids, axis=0)\n",
    "        oldCentroids = np.sort(oldCentroids, axis=0)\n",
    "        \n",
    "        print(\"interation: \",inter)\n",
    "        \n",
    "    print(oldCentroids ,\"\\n\")\n",
    "    #print(centroids)\n",
    "    return centroids"
   ],
   "id": "5d0e55f8071b306c",
   "outputs": [],
   "execution_count": 287
  },
  {
   "metadata": {
    "ExecuteTime": {
     "end_time": "2025-01-18T22:09:00.098852Z",
     "start_time": "2025-01-18T22:09:00.092464Z"
    }
   },
   "cell_type": "code",
   "source": "print(k_means(data, 2))",
   "id": "3e956e0957d237c8",
   "outputs": [
    {
     "name": "stdout",
     "output_type": "stream",
     "text": [
      "interation:  1\n",
      "interation:  2\n",
      "[[0. 0. 0.]\n",
      " [0. 0. 0.]] \n",
      "\n",
      "[[0. 0. 0.]\n",
      " [0. 0. 0.]]\n"
     ]
    }
   ],
   "execution_count": 288
  },
  {
   "metadata": {
    "ExecuteTime": {
     "end_time": "2025-01-18T22:09:00.100769Z",
     "start_time": "2025-01-18T22:09:00.099689Z"
    }
   },
   "cell_type": "code",
   "source": "",
   "id": "a46ce2b4f86033a",
   "outputs": [],
   "execution_count": 288
  }
 ],
 "metadata": {
  "kernelspec": {
   "display_name": "Python 3",
   "language": "python",
   "name": "python3"
  },
  "language_info": {
   "codemirror_mode": {
    "name": "ipython",
    "version": 2
   },
   "file_extension": ".py",
   "mimetype": "text/x-python",
   "name": "python",
   "nbconvert_exporter": "python",
   "pygments_lexer": "ipython2",
   "version": "2.7.6"
  }
 },
 "nbformat": 4,
 "nbformat_minor": 5
}
